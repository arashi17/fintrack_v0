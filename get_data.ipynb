{
 "cells": [
  {
   "cell_type": "code",
   "execution_count": 3,
   "metadata": {},
   "outputs": [],
   "source": [
    "import pandas as pd\n",
    "import datetime as dt\n",
    "import pandas_datareader.data as web"
   ]
  },
  {
   "cell_type": "code",
   "execution_count": 4,
   "metadata": {},
   "outputs": [],
   "source": [
    "start = dt.datetime(2000, 1, 1)\n",
    "end = dt.datetime(2018, 12, 31)"
   ]
  },
  {
   "cell_type": "code",
   "execution_count": 7,
   "metadata": {},
   "outputs": [],
   "source": [
    "df = web.DataReader('AMZN', 'yahoo', start, end)"
   ]
  },
  {
   "cell_type": "code",
   "execution_count": 11,
   "metadata": {},
   "outputs": [
    {
     "name": "stdout",
     "output_type": "stream",
     "text": [
      "                   High          Low         Open        Close    Volume  \\\n",
      "Date                                                                       \n",
      "2018-12-24  1396.030029  1307.000000  1346.000000  1343.959961   7220000   \n",
      "2018-12-26  1473.160034  1363.010010  1368.890015  1470.900024  10411800   \n",
      "2018-12-27  1469.000000  1390.310059  1454.199951  1461.640015   9722000   \n",
      "2018-12-28  1513.469971  1449.000000  1473.349976  1478.020020   8829000   \n",
      "2018-12-31  1520.760010  1487.000000  1510.800049  1501.969971   6954500   \n",
      "\n",
      "              Adj Close  \n",
      "Date                     \n",
      "2018-12-24  1343.959961  \n",
      "2018-12-26  1470.900024  \n",
      "2018-12-27  1461.640015  \n",
      "2018-12-28  1478.020020  \n",
      "2018-12-31  1501.969971  \n"
     ]
    }
   ],
   "source": [
    "print(df.tail())"
   ]
  }
 ],
 "metadata": {
  "kernelspec": {
   "display_name": "Python 3",
   "language": "python",
   "name": "python3"
  },
  "language_info": {
   "codemirror_mode": {
    "name": "ipython",
    "version": 3
   },
   "file_extension": ".py",
   "mimetype": "text/x-python",
   "name": "python",
   "nbconvert_exporter": "python",
   "pygments_lexer": "ipython3",
   "version": "3.7.0"
  }
 },
 "nbformat": 4,
 "nbformat_minor": 2
}
